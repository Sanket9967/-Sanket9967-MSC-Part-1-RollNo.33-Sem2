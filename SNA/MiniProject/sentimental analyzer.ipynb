{
 "cells": [
  {
   "cell_type": "code",
   "execution_count": 1,
   "id": "1aff7825-df33-46d0-8e01-ce52e663a77b",
   "metadata": {},
   "outputs": [],
   "source": [
    "# Sentiment analysis in Python 3\n"
   ]
  },
  {
   "cell_type": "raw",
   "id": "98aa976f-969d-4e22-92c5-85ac84f85a5e",
   "metadata": {
    "tags": []
   },
   "source": [
    "# Load Libraries"
   ]
  },
  {
   "cell_type": "code",
   "execution_count": 13,
   "id": "26ea8184-6771-4205-b778-1dc07b1416cc",
   "metadata": {},
   "outputs": [
    {
     "name": "stderr",
     "output_type": "stream",
     "text": [
      "[nltk_data] Downloading package vader_lexicon to\n",
      "[nltk_data]     C:\\Users\\lenovo\\AppData\\Roaming\\nltk_data...\n"
     ]
    },
    {
     "data": {
      "text/plain": [
       "True"
      ]
     },
     "execution_count": 13,
     "metadata": {},
     "output_type": "execute_result"
    }
   ],
   "source": [
    "import nltk\n",
    "from nltk.corpus import stopwords, twitter_samples\n",
    "from nltk.sentiment import SentimentIntensityAnalyzer\n",
    "from statistics import mean\n",
    "from random import shuffle\n",
    "from colorama import Fore\n",
    "import nltk\n",
    "nltk.download('vader_lexicon')"
   ]
  },
  {
   "cell_type": "markdown",
   "id": "62e5968f-3c5d-4384-b00b-a56104b3fd46",
   "metadata": {},
   "source": [
    "//Load and test the VADER sentiment analyzer\n"
   ]
  },
  {
   "cell_type": "code",
   "execution_count": 14,
   "id": "882b4707-6175-4482-8add-71b0e3526b74",
   "metadata": {},
   "outputs": [
    {
     "data": {
      "text/plain": [
       "{'neg': 0.0, 'neu': 0.594, 'pos': 0.406, 'compound': 0.6249}"
      ]
     },
     "execution_count": 14,
     "metadata": {},
     "output_type": "execute_result"
    }
   ],
   "source": [
    "sia = SentimentIntensityAnalyzer()\n",
    "sia.polarity_scores(\"NLTK is a great package to perform NLP.\")"
   ]
  },
  {
   "cell_type": "code",
   "execution_count": null,
   "id": "ba0e6002-edee-4899-9b39-1920fb642593",
   "metadata": {},
   "outputs": [],
   "source": [
    "green = Fore.GREEN\n",
    "red = Fore.RED\n",
    "\n",
    "def ispositive(tweet : str) -> bool:\n",
    "    return sia.polarity_scores(tweet)[\"compound\"] > 0\n",
    "\n",
    "tweets = [tweet for tweet in twitter_samples.strings()]\n",
    "shuffle(tweets)\n",
    "\n",
    "for tweet in tweets[ : 10]:\n",
    "    color = green\n",
    "    if not ispositive(tweet):\n",
    "        color = red\n",
    "    print(f\"{color}{tweet}\")"
   ]
  }
 ],
 "metadata": {
  "kernelspec": {
   "display_name": "Python 3 (ipykernel)",
   "language": "python",
   "name": "python3"
  },
  "language_info": {
   "codemirror_mode": {
    "name": "ipython",
    "version": 3
   },
   "file_extension": ".py",
   "mimetype": "text/x-python",
   "name": "python",
   "nbconvert_exporter": "python",
   "pygments_lexer": "ipython3",
   "version": "3.9.7"
  }
 },
 "nbformat": 4,
 "nbformat_minor": 5
}
